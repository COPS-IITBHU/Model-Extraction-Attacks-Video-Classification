{
 "cells": [
  {
   "cell_type": "code",
   "execution_count": 1,
   "id": "32700689-2590-4eec-8ae2-08ab0bfb5c23",
   "metadata": {},
   "outputs": [],
   "source": [
    "import pandas as pd"
   ]
  },
  {
   "cell_type": "code",
   "execution_count": 2,
   "id": "735afbba-b2e8-4579-b6a3-c0c690b35378",
   "metadata": {},
   "outputs": [
    {
     "name": "stdout",
     "output_type": "stream",
     "text": [
      "/home/jovyan\n"
     ]
    }
   ],
   "source": [
    "cd ../"
   ]
  },
  {
   "cell_type": "code",
   "execution_count": 3,
   "id": "269e94db-ca9b-4e5e-af4d-20668d148cf1",
   "metadata": {},
   "outputs": [
    {
     "data": {
      "text/html": [
       "<div>\n",
       "<style scoped>\n",
       "    .dataframe tbody tr th:only-of-type {\n",
       "        vertical-align: middle;\n",
       "    }\n",
       "\n",
       "    .dataframe tbody tr th {\n",
       "        vertical-align: top;\n",
       "    }\n",
       "\n",
       "    .dataframe thead th {\n",
       "        text-align: right;\n",
       "    }\n",
       "</style>\n",
       "<table border=\"1\" class=\"dataframe\">\n",
       "  <thead>\n",
       "    <tr style=\"text-align: right;\">\n",
       "      <th></th>\n",
       "      <th>label</th>\n",
       "      <th>youtube_id</th>\n",
       "    </tr>\n",
       "  </thead>\n",
       "  <tbody>\n",
       "    <tr>\n",
       "      <th>0</th>\n",
       "      <td>testifying</td>\n",
       "      <td>---QUuC4vJs</td>\n",
       "    </tr>\n",
       "    <tr>\n",
       "      <th>1</th>\n",
       "      <td>eating spaghetti</td>\n",
       "      <td>--3ouPhoy2A</td>\n",
       "    </tr>\n",
       "    <tr>\n",
       "      <th>2</th>\n",
       "      <td>dribbling basketball</td>\n",
       "      <td>--4-0ihtnBU</td>\n",
       "    </tr>\n",
       "    <tr>\n",
       "      <th>3</th>\n",
       "      <td>playing tennis</td>\n",
       "      <td>--56QUhyDQM</td>\n",
       "    </tr>\n",
       "    <tr>\n",
       "      <th>4</th>\n",
       "      <td>tap dancing</td>\n",
       "      <td>--6q_33gNew</td>\n",
       "    </tr>\n",
       "  </tbody>\n",
       "</table>\n",
       "</div>"
      ],
      "text/plain": [
       "                  label   youtube_id\n",
       "0            testifying  ---QUuC4vJs\n",
       "1      eating spaghetti  --3ouPhoy2A\n",
       "2  dribbling basketball  --4-0ihtnBU\n",
       "3        playing tennis  --56QUhyDQM\n",
       "4           tap dancing  --6q_33gNew"
      ]
     },
     "execution_count": 3,
     "metadata": {},
     "output_type": "execute_result"
    }
   ],
   "source": [
    "train_df = pd.read_csv('kinetics-dataset/kinetics400/train.csv')\n",
    "train_df = train_df.drop(['time_start'], axis = 1)\n",
    "train_df= train_df.drop(['time_end'], axis = 1)\n",
    "train_df= train_df.drop(['split'], axis = 1)\n",
    "train_df.head()"
   ]
  },
  {
   "cell_type": "code",
   "execution_count": 4,
   "id": "facb1fcd-298f-4441-9b74-9bbddad572d4",
   "metadata": {},
   "outputs": [],
   "source": [
    "train_csv = train_df.set_index('youtube_id').agg(list, axis=1).to_dict()"
   ]
  },
  {
   "cell_type": "code",
   "execution_count": 5,
   "id": "fe57b8c8-ff40-4872-8fda-f3a4d450eeea",
   "metadata": {},
   "outputs": [
    {
     "name": "stdout",
     "output_type": "stream",
     "text": [
      "/\n"
     ]
    }
   ],
   "source": [
    "cd ../../"
   ]
  },
  {
   "cell_type": "code",
   "execution_count": 10,
   "id": "708e852b-d73c-4284-8b90-f0582d2feaee",
   "metadata": {},
   "outputs": [],
   "source": [
    "DATA_DIR = 'tmp/train_256'"
   ]
  },
  {
   "cell_type": "code",
   "execution_count": 16,
   "id": "a33ffe58-e282-41f3-b140-f6eed671b520",
   "metadata": {},
   "outputs": [],
   "source": [
    "#when using data directly\n",
    "dictionary ={}\n",
    "import os\n",
    "\n",
    "directory = os.fsencode(DATA_DIR)\n",
    "    \n",
    "for file in os.listdir(directory):\n",
    "  try:\n",
    "    filename = os.fsdecode(file)\n",
    "    #print(filename)\n",
    "    dictionary[DATA_DIR+'/'+filename]=train_csv[filename[0:11]][0]\n",
    "  except:\n",
    "    pass\n",
    "    "
   ]
  },
  {
   "cell_type": "code",
   "execution_count": 17,
   "id": "d0f25ade-3f1e-4c87-9f8b-691a90f89c97",
   "metadata": {},
   "outputs": [],
   "source": [
    "#when data stored in folders\n",
    "dictionary ={}\n",
    "import os\n",
    "\n",
    "directory = os.fsencode(DATA_DIR)\n",
    "import os\n",
    "for filename in os.listdir(directory):\n",
    "    f = os.path.join(directory, filename)\n",
    "    #print(f)\n",
    "    for filename in os.listdir(f):\n",
    "       fil = os.path.join(f, filename)\n",
    "       dictionary[os.fsdecode(fil)] = os.fsdecode(os.path.basename(f))"
   ]
  },
  {
   "cell_type": "code",
   "execution_count": 18,
   "id": "aca8b80e-c075-43ab-8d76-d01e428b0a50",
   "metadata": {},
   "outputs": [],
   "source": [
    "data_items = dictionary.items()\n",
    "data_list = list(data_items)\n",
    "\n",
    "df = pd.DataFrame(data_list)"
   ]
  },
  {
   "cell_type": "code",
   "execution_count": 19,
   "id": "96b87a6d-88fe-4867-acfb-5f6cf746b373",
   "metadata": {},
   "outputs": [
    {
     "data": {
      "text/html": [
       "<div>\n",
       "<style scoped>\n",
       "    .dataframe tbody tr th:only-of-type {\n",
       "        vertical-align: middle;\n",
       "    }\n",
       "\n",
       "    .dataframe tbody tr th {\n",
       "        vertical-align: top;\n",
       "    }\n",
       "\n",
       "    .dataframe thead th {\n",
       "        text-align: right;\n",
       "    }\n",
       "</style>\n",
       "<table border=\"1\" class=\"dataframe\">\n",
       "  <thead>\n",
       "    <tr style=\"text-align: right;\">\n",
       "      <th></th>\n",
       "      <th>0</th>\n",
       "      <th>1</th>\n",
       "    </tr>\n",
       "  </thead>\n",
       "  <tbody>\n",
       "    <tr>\n",
       "      <th>0</th>\n",
       "      <td>tmp/train_256/belly_dancing/1envheMuhqk_000207...</td>\n",
       "      <td>belly_dancing</td>\n",
       "    </tr>\n",
       "    <tr>\n",
       "      <th>1</th>\n",
       "      <td>tmp/train_256/belly_dancing/1AH_8mrtqnM_000006...</td>\n",
       "      <td>belly_dancing</td>\n",
       "    </tr>\n",
       "    <tr>\n",
       "      <th>2</th>\n",
       "      <td>tmp/train_256/belly_dancing/1glQafnTBQs_000119...</td>\n",
       "      <td>belly_dancing</td>\n",
       "    </tr>\n",
       "    <tr>\n",
       "      <th>3</th>\n",
       "      <td>tmp/train_256/belly_dancing/2BDZwseEAfk_000040...</td>\n",
       "      <td>belly_dancing</td>\n",
       "    </tr>\n",
       "    <tr>\n",
       "      <th>4</th>\n",
       "      <td>tmp/train_256/belly_dancing/1bI0AiGJCWE_000311...</td>\n",
       "      <td>belly_dancing</td>\n",
       "    </tr>\n",
       "    <tr>\n",
       "      <th>...</th>\n",
       "      <td>...</td>\n",
       "      <td>...</td>\n",
       "    </tr>\n",
       "    <tr>\n",
       "      <th>12416</th>\n",
       "      <td>tmp/train_256/milking_cow/1gGVdnXlW5o_000003_0...</td>\n",
       "      <td>milking_cow</td>\n",
       "    </tr>\n",
       "    <tr>\n",
       "      <th>12417</th>\n",
       "      <td>tmp/train_256/milking_cow/0CsAKXK4sgk_000004_0...</td>\n",
       "      <td>milking_cow</td>\n",
       "    </tr>\n",
       "    <tr>\n",
       "      <th>12418</th>\n",
       "      <td>tmp/train_256/milking_cow/0XyEeNJp5_g_001121_0...</td>\n",
       "      <td>milking_cow</td>\n",
       "    </tr>\n",
       "    <tr>\n",
       "      <th>12419</th>\n",
       "      <td>tmp/train_256/milking_cow/0LdmTwbHPu8_000001_0...</td>\n",
       "      <td>milking_cow</td>\n",
       "    </tr>\n",
       "    <tr>\n",
       "      <th>12420</th>\n",
       "      <td>tmp/train_256/milking_cow/1Gm6Ez2rBDI_000004_0...</td>\n",
       "      <td>milking_cow</td>\n",
       "    </tr>\n",
       "  </tbody>\n",
       "</table>\n",
       "<p>12421 rows × 2 columns</p>\n",
       "</div>"
      ],
      "text/plain": [
       "                                                       0              1\n",
       "0      tmp/train_256/belly_dancing/1envheMuhqk_000207...  belly_dancing\n",
       "1      tmp/train_256/belly_dancing/1AH_8mrtqnM_000006...  belly_dancing\n",
       "2      tmp/train_256/belly_dancing/1glQafnTBQs_000119...  belly_dancing\n",
       "3      tmp/train_256/belly_dancing/2BDZwseEAfk_000040...  belly_dancing\n",
       "4      tmp/train_256/belly_dancing/1bI0AiGJCWE_000311...  belly_dancing\n",
       "...                                                  ...            ...\n",
       "12416  tmp/train_256/milking_cow/1gGVdnXlW5o_000003_0...    milking_cow\n",
       "12417  tmp/train_256/milking_cow/0CsAKXK4sgk_000004_0...    milking_cow\n",
       "12418  tmp/train_256/milking_cow/0XyEeNJp5_g_001121_0...    milking_cow\n",
       "12419  tmp/train_256/milking_cow/0LdmTwbHPu8_000001_0...    milking_cow\n",
       "12420  tmp/train_256/milking_cow/1Gm6Ez2rBDI_000004_0...    milking_cow\n",
       "\n",
       "[12421 rows x 2 columns]"
      ]
     },
     "execution_count": 19,
     "metadata": {},
     "output_type": "execute_result"
    }
   ],
   "source": [
    "df"
   ]
  },
  {
   "cell_type": "code",
   "execution_count": 20,
   "id": "0e8115d8-8290-4501-993f-e3e3948fdc4e",
   "metadata": {},
   "outputs": [
    {
     "name": "stdout",
     "output_type": "stream",
     "text": [
      "/home/jovyan\n"
     ]
    }
   ],
   "source": [
    "cd /home/jovyan"
   ]
  },
  {
   "cell_type": "code",
   "execution_count": 21,
   "id": "659ceaa7-3609-419f-9091-cd4b0d8865c5",
   "metadata": {},
   "outputs": [
    {
     "name": "stdout",
     "output_type": "stream",
     "text": [
      "/home/jovyan/PlanetaryComputerExamples\n"
     ]
    }
   ],
   "source": [
    "cd PlanetaryComputerExamples"
   ]
  },
  {
   "cell_type": "code",
   "execution_count": 25,
   "id": "4145aadc-d083-4a78-acb1-5b378548f925",
   "metadata": {},
   "outputs": [],
   "source": [
    "df_reset.to_csv('train30.csv')"
   ]
  },
  {
   "cell_type": "code",
   "execution_count": 23,
   "id": "9ba32f1a-a14d-4fb7-8c28-baf56a8525de",
   "metadata": {},
   "outputs": [
    {
     "data": {
      "text/html": [
       "<div>\n",
       "<style scoped>\n",
       "    .dataframe tbody tr th:only-of-type {\n",
       "        vertical-align: middle;\n",
       "    }\n",
       "\n",
       "    .dataframe tbody tr th {\n",
       "        vertical-align: top;\n",
       "    }\n",
       "\n",
       "    .dataframe thead th {\n",
       "        text-align: right;\n",
       "    }\n",
       "</style>\n",
       "<table border=\"1\" class=\"dataframe\">\n",
       "  <thead>\n",
       "    <tr style=\"text-align: right;\">\n",
       "      <th></th>\n",
       "      <th>0</th>\n",
       "      <th>1</th>\n",
       "    </tr>\n",
       "  </thead>\n",
       "  <tbody>\n",
       "    <tr>\n",
       "      <th>0</th>\n",
       "      <td>tmp/train_256/belly_dancing/1envheMuhqk_000207...</td>\n",
       "      <td>belly_dancing</td>\n",
       "    </tr>\n",
       "    <tr>\n",
       "      <th>1</th>\n",
       "      <td>tmp/train_256/belly_dancing/1AH_8mrtqnM_000006...</td>\n",
       "      <td>belly_dancing</td>\n",
       "    </tr>\n",
       "    <tr>\n",
       "      <th>2</th>\n",
       "      <td>tmp/train_256/belly_dancing/1glQafnTBQs_000119...</td>\n",
       "      <td>belly_dancing</td>\n",
       "    </tr>\n",
       "    <tr>\n",
       "      <th>3</th>\n",
       "      <td>tmp/train_256/belly_dancing/2BDZwseEAfk_000040...</td>\n",
       "      <td>belly_dancing</td>\n",
       "    </tr>\n",
       "    <tr>\n",
       "      <th>4</th>\n",
       "      <td>tmp/train_256/belly_dancing/1bI0AiGJCWE_000311...</td>\n",
       "      <td>belly_dancing</td>\n",
       "    </tr>\n",
       "  </tbody>\n",
       "</table>\n",
       "</div>"
      ],
      "text/plain": [
       "                                                   0              1\n",
       "0  tmp/train_256/belly_dancing/1envheMuhqk_000207...  belly_dancing\n",
       "1  tmp/train_256/belly_dancing/1AH_8mrtqnM_000006...  belly_dancing\n",
       "2  tmp/train_256/belly_dancing/1glQafnTBQs_000119...  belly_dancing\n",
       "3  tmp/train_256/belly_dancing/2BDZwseEAfk_000040...  belly_dancing\n",
       "4  tmp/train_256/belly_dancing/1bI0AiGJCWE_000311...  belly_dancing"
      ]
     },
     "execution_count": 23,
     "metadata": {},
     "output_type": "execute_result"
    }
   ],
   "source": [
    "df_reset=df.reset_index(drop=True)\n",
    "df_reset.head()"
   ]
  },
  {
   "cell_type": "code",
   "execution_count": 28,
   "id": "a580eea8-ef2b-4b31-b6fd-52c79b3daa9c",
   "metadata": {},
   "outputs": [],
   "source": [
    "df2 = pd.read_csv('validation.csv')\n",
    "df1 = pd.read_csv('train30.csv')"
   ]
  },
  {
   "cell_type": "code",
   "execution_count": 29,
   "id": "6c09c9b8-2aa0-4552-9e6e-ef35d10c1940",
   "metadata": {},
   "outputs": [
    {
     "data": {
      "text/html": [
       "<div>\n",
       "<style scoped>\n",
       "    .dataframe tbody tr th:only-of-type {\n",
       "        vertical-align: middle;\n",
       "    }\n",
       "\n",
       "    .dataframe tbody tr th {\n",
       "        vertical-align: top;\n",
       "    }\n",
       "\n",
       "    .dataframe thead th {\n",
       "        text-align: right;\n",
       "    }\n",
       "</style>\n",
       "<table border=\"1\" class=\"dataframe\">\n",
       "  <thead>\n",
       "    <tr style=\"text-align: right;\">\n",
       "      <th></th>\n",
       "      <th>0</th>\n",
       "      <th>1</th>\n",
       "    </tr>\n",
       "  </thead>\n",
       "  <tbody>\n",
       "    <tr>\n",
       "      <th>0</th>\n",
       "      <td>tmp/train_256/belly_dancing/1envheMuhqk_000207...</td>\n",
       "      <td>belly_dancing</td>\n",
       "    </tr>\n",
       "    <tr>\n",
       "      <th>1</th>\n",
       "      <td>tmp/train_256/belly_dancing/1AH_8mrtqnM_000006...</td>\n",
       "      <td>belly_dancing</td>\n",
       "    </tr>\n",
       "    <tr>\n",
       "      <th>2</th>\n",
       "      <td>tmp/train_256/belly_dancing/1glQafnTBQs_000119...</td>\n",
       "      <td>belly_dancing</td>\n",
       "    </tr>\n",
       "    <tr>\n",
       "      <th>3</th>\n",
       "      <td>tmp/train_256/belly_dancing/2BDZwseEAfk_000040...</td>\n",
       "      <td>belly_dancing</td>\n",
       "    </tr>\n",
       "    <tr>\n",
       "      <th>4</th>\n",
       "      <td>tmp/train_256/belly_dancing/1bI0AiGJCWE_000311...</td>\n",
       "      <td>belly_dancing</td>\n",
       "    </tr>\n",
       "    <tr>\n",
       "      <th>...</th>\n",
       "      <td>...</td>\n",
       "      <td>...</td>\n",
       "    </tr>\n",
       "    <tr>\n",
       "      <th>11683</th>\n",
       "      <td>tmp/val/Htq2gWeEZmg_000019_000029.mp4</td>\n",
       "      <td>tying knot (not on a tie)</td>\n",
       "    </tr>\n",
       "    <tr>\n",
       "      <th>11684</th>\n",
       "      <td>tmp/val/ulPZbXr-X20_000002_000012.mp4</td>\n",
       "      <td>front raises</td>\n",
       "    </tr>\n",
       "    <tr>\n",
       "      <th>11685</th>\n",
       "      <td>tmp/val/mDKwkhe8J2w_000003_000013.mp4</td>\n",
       "      <td>headbutting</td>\n",
       "    </tr>\n",
       "    <tr>\n",
       "      <th>11686</th>\n",
       "      <td>tmp/val/v8P7a6ukH74_000088_000098.mp4</td>\n",
       "      <td>playing cello</td>\n",
       "    </tr>\n",
       "    <tr>\n",
       "      <th>11687</th>\n",
       "      <td>tmp/val/wxRMVEHYLFA_000013_000023.mp4</td>\n",
       "      <td>drumming fingers</td>\n",
       "    </tr>\n",
       "  </tbody>\n",
       "</table>\n",
       "<p>24109 rows × 2 columns</p>\n",
       "</div>"
      ],
      "text/plain": [
       "                                                       0  \\\n",
       "0      tmp/train_256/belly_dancing/1envheMuhqk_000207...   \n",
       "1      tmp/train_256/belly_dancing/1AH_8mrtqnM_000006...   \n",
       "2      tmp/train_256/belly_dancing/1glQafnTBQs_000119...   \n",
       "3      tmp/train_256/belly_dancing/2BDZwseEAfk_000040...   \n",
       "4      tmp/train_256/belly_dancing/1bI0AiGJCWE_000311...   \n",
       "...                                                  ...   \n",
       "11683              tmp/val/Htq2gWeEZmg_000019_000029.mp4   \n",
       "11684              tmp/val/ulPZbXr-X20_000002_000012.mp4   \n",
       "11685              tmp/val/mDKwkhe8J2w_000003_000013.mp4   \n",
       "11686              tmp/val/v8P7a6ukH74_000088_000098.mp4   \n",
       "11687              tmp/val/wxRMVEHYLFA_000013_000023.mp4   \n",
       "\n",
       "                               1  \n",
       "0                  belly_dancing  \n",
       "1                  belly_dancing  \n",
       "2                  belly_dancing  \n",
       "3                  belly_dancing  \n",
       "4                  belly_dancing  \n",
       "...                          ...  \n",
       "11683  tying knot (not on a tie)  \n",
       "11684               front raises  \n",
       "11685                headbutting  \n",
       "11686              playing cello  \n",
       "11687           drumming fingers  \n",
       "\n",
       "[24109 rows x 2 columns]"
      ]
     },
     "metadata": {},
     "output_type": "display_data"
    }
   ],
   "source": [
    "frames = [df1, df2]\n",
    "  \n",
    "result = pd.concat(frames)\n",
    "display(result)"
   ]
  },
  {
   "cell_type": "code",
   "execution_count": 30,
   "id": "1e4d94eb-31b0-445c-91c4-73ca8bedaa5f",
   "metadata": {},
   "outputs": [],
   "source": [
    "result.to_csv('result.csv')"
   ]
  },
  {
   "cell_type": "code",
   "execution_count": null,
   "id": "8a9d6615-78be-40cc-8f8c-b6b84392c29a",
   "metadata": {},
   "outputs": [],
   "source": []
  }
 ],
 "metadata": {
  "kernelspec": {
   "display_name": "Python 3 (ipykernel)",
   "language": "python",
   "name": "python3"
  },
  "language_info": {
   "codemirror_mode": {
    "name": "ipython",
    "version": 3
   },
   "file_extension": ".py",
   "mimetype": "text/x-python",
   "name": "python",
   "nbconvert_exporter": "python",
   "pygments_lexer": "ipython3",
   "version": "3.8.12"
  }
 },
 "nbformat": 4,
 "nbformat_minor": 5
}
